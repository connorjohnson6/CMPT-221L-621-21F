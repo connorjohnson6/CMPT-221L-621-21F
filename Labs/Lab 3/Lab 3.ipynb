{
 "cells": [
  {
   "cell_type": "markdown",
   "metadata": {},
   "source": [
    "# Lab Three\n",
    "---\n",
    "\n",
    "Ok for this lab we're going to reiterate a lot of the things that we went over in class.\n",
    "\n",
    "Our Goals are:\n",
    "- Understanding Variable Types\n",
    "- Defining Variables\n",
    "- Using Conditionals\n",
    "- Using Loops\n",
    "- Creating Objects\n",
    "- Writing a function\n"
   ]
  },
  {
   "cell_type": "markdown",
   "metadata": {},
   "source": [
    "## What's the difference between Null and undefined?"
   ]
  },
  {
   "cell_type": "raw",
   "metadata": {},
   "source": [
    "Even though many poeple catagorize null and undefined as the same, \n",
    "they are vastly differnet. Null is declared as an object, \n",
    "basically it can be assigned but is represented by on Null. \n",
    "\n",
    "On the other hand, undefinied is like the same as Null however it represents nothing at all. \n",
    "Nothing is logged for undiefined and nothing is printed."
   ]
  },
  {
   "cell_type": "markdown",
   "metadata": {},
   "source": [
    "## List the 3 Variable Types and Use Them!"
   ]
  },
  {
   "cell_type": "code",
   "execution_count": null,
   "metadata": {},
   "outputs": [],
   "source": [
    "//(Var)\n",
    "var a = 1;\n",
    "var b = 2;\n",
    "var c = a + b;\n",
    "console.log(c);"
   ]
  },
  {
   "cell_type": "code",
   "execution_count": null,
   "metadata": {},
   "outputs": [],
   "source": [
    "//(Let)\n",
    "let LetName = \"CONNOR\";\n",
    "console.log(name);"
   ]
  },
  {
   "cell_type": "code",
   "execution_count": null,
   "metadata": {},
   "outputs": [],
   "source": [
    "//(Const)\n",
    "const ConstName = \"CONNOR\";\n",
    "console.log(ConstName);"
   ]
  },
  {
   "cell_type": "markdown",
   "metadata": {},
   "source": [
    "## Use an If/Else If/Else Statement and a Switch Case statement"
   ]
  },
  {
   "cell_type": "code",
   "execution_count": null,
   "metadata": {},
   "outputs": [],
   "source": [
    "//If/Else If/Else Statement\n",
    "var a = 2;\n",
    "var b = 2;\n",
    "\n",
    "if (a === b){\n",
    "    console.log(\"The two varibles are the same\");\n",
    "}else if (a == b){\n",
    "    console.log(\"These two are the same type\");\n",
    "}else{\n",
    "    console.log(\"Nothing is right?\");\n",
    "}"
   ]
  },
  {
   "cell_type": "code",
   "execution_count": null,
   "metadata": {},
   "outputs": [],
   "source": [
    "//Switch Case Statement\n",
    "var CarType = \"Toyota\";\n",
    "switch (CarType){\n",
    "    case \"Ford\":\n",
    "        console.log(\"Ford\");\n",
    "        break;\n",
    "    case \"Volvo\":\n",
    "        console.log(\"Volvo\");\n",
    "        break;\n",
    "    case \"Toyota\":\n",
    "        console.log(\"Toyota\");\n",
    "        break;\n",
    "    \n",
    "    default:\n",
    "        console.log();\n",
    "        break;\n",
    "}"
   ]
  },
  {
   "cell_type": "code",
   "execution_count": null,
   "metadata": {},
   "outputs": [],
   "source": []
  },
  {
   "cell_type": "markdown",
   "metadata": {},
   "source": [
    "## Use a For and a While Loop"
   ]
  },
  {
   "cell_type": "code",
   "execution_count": null,
   "metadata": {},
   "outputs": [],
   "source": [
    "//for loop\n",
    "var friends = [\"Alex\", \"Joe\", \"Austin\", \"Luca\", \"Trent\"];\n",
    "for (friends in friends){\n",
    "    console.log(friends);\n",
    "}\n",
    "    "
   ]
  },
  {
   "cell_type": "code",
   "execution_count": null,
   "metadata": {},
   "outputs": [],
   "source": [
    "//while loop\n",
    "let i = 5\n",
    "while (i < 10){\n",
    "    console.log(i);\n",
    "    i++;\n",
    "}\n"
   ]
  },
  {
   "cell_type": "markdown",
   "metadata": {},
   "source": [
    "## Make an object!"
   ]
  },
  {
   "cell_type": "code",
   "execution_count": null,
   "metadata": {},
   "outputs": [],
   "source": [
    "let classes = {\n",
    "    Subject1 = \"History\";\n",
    "    Subject2 = \"Science\";\n",
    "    Subject3 = \"Math\";\n",
    "    grade: \"Sophomore\";\n",
    "    gpa: 3.49;\n",
    "} "
   ]
  },
  {
   "cell_type": "markdown",
   "metadata": {},
   "source": [
    "## Make a function, It can do anything!"
   ]
  },
  {
   "cell_type": "code",
   "execution_count": null,
   "metadata": {},
   "outputs": [],
   "source": [
    "let classes = {\n",
    "    Subject1 = \"History\";\n",
    "    Subject2 = \"Science\";\n",
    "    Subject3 = \"Math\";\n",
    "}\n",
    "\n",
    "function classSub(Subject){\n",
    "    console.log(`Hello ${Subject}!`);\n",
    "}\n",
    "classSub(classes.Subject2);\n"
   ]
  },
  {
   "cell_type": "markdown",
   "metadata": {},
   "source": [
    "## Optional: Checkout HackerRank and try a problem in Javascript"
   ]
  }
 ],
 "metadata": {
  "kernelspec": {
   "display_name": "Javascript (Node.js)",
   "language": "javascript",
   "name": "javascript"
  },
  "language_info": {
   "file_extension": ".js",
   "mimetype": "application/javascript",
   "name": "javascript",
   "version": "10.22.0"
  },
  "orig_nbformat": 4
 },
 "nbformat": 4,
 "nbformat_minor": 2
}